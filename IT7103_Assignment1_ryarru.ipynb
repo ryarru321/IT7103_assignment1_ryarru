{
  "nbformat": 4,
  "nbformat_minor": 0,
  "metadata": {
    "colab": {
      "provenance": [],
      "authorship_tag": "ABX9TyNspqZt7mfif8F4aUwI6GWk",
      "include_colab_link": true
    },
    "kernelspec": {
      "name": "python3",
      "display_name": "Python 3"
    },
    "language_info": {
      "name": "python"
    }
  },
  "cells": [
    {
      "cell_type": "markdown",
      "metadata": {
        "id": "view-in-github",
        "colab_type": "text"
      },
      "source": [
        "<a href=\"https://colab.research.google.com/github/ryarru321/IT7103_assignment1_ryarru/blob/main/IT7103_Assignment1_ryarru.ipynb\" target=\"_parent\"><img src=\"https://colab.research.google.com/assets/colab-badge.svg\" alt=\"Open In Colab\"/></a>"
      ]
    },
    {
      "cell_type": "code",
      "execution_count": null,
      "metadata": {
        "id": "QCHIEMQCG1ex"
      },
      "outputs": [],
      "source": [
        "# Rohith Sai Yarru\n",
        "# IT7103 Summer 2024"
      ]
    }
  ]
}